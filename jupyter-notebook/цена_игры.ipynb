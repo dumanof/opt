{
 "cells": [
  {
   "cell_type": "code",
   "execution_count": 6,
   "id": "2c2668fc-4ffc-48fa-8bed-24950855066c",
   "metadata": {},
   "outputs": [],
   "source": [
    "import numpy as np\n",
    "import nashpy as nash"
   ]
  },
  {
   "cell_type": "code",
   "execution_count": 7,
   "id": "2be873ae-8f32-40b7-9cd8-4a5535bad6f9",
   "metadata": {},
   "outputs": [
    {
     "name": "stdout",
     "output_type": "stream",
     "text": [
      "[[-2.88 -2.02 -0.42  2.27]\n",
      " [-3.39  2.19  2.56  0.29]\n",
      " [ 0.03 -4.51 -3.35 -3.59]\n",
      " [ 0.5  -1.93  1.16 -1.02]\n",
      " [ 0.74  2.94 -1.96  1.22]]\n"
     ]
    }
   ],
   "source": [
    "A = np.array([[-2.88, -2.02, -0.42,  2.27], [-3.39,  2.19,  2.56,  0.29], [0.03, -4.51, -3.35, -3.59], [0.50, -1.93,  1.16, -1.02], [0.74,  2.94, -1.96,  1.22]])\n",
    "print(A)"
   ]
  },
  {
   "cell_type": "code",
   "execution_count": 8,
   "id": "2986e81f-c3b2-435c-acd4-961d33486797",
   "metadata": {},
   "outputs": [
    {
     "name": "stdout",
     "output_type": "stream",
     "text": [
      "Zero sum game with payoff matrices:\n",
      "\n",
      "Row player:\n",
      "[[-2.88 -2.02 -0.42  2.27]\n",
      " [-3.39  2.19  2.56  0.29]\n",
      " [ 0.03 -4.51 -3.35 -3.59]\n",
      " [ 0.5  -1.93  1.16 -1.02]\n",
      " [ 0.74  2.94 -1.96  1.22]]\n",
      "\n",
      "Column player:\n",
      "[[ 2.88  2.02  0.42 -2.27]\n",
      " [ 3.39 -2.19 -2.56 -0.29]\n",
      " [-0.03  4.51  3.35  3.59]\n",
      " [-0.5   1.93 -1.16  1.02]\n",
      " [-0.74 -2.94  1.96 -1.22]]\n"
     ]
    }
   ],
   "source": [
    "zsg = nash.Game(A)\n",
    "print(zsg)"
   ]
  },
  {
   "cell_type": "code",
   "execution_count": 9,
   "id": "4f4e6cec-fb42-4563-995e-e1e18c6723b3",
   "metadata": {
    "scrolled": true
   },
   "outputs": [
    {
     "data": {
      "text/plain": [
       "-1.93"
      ]
     },
     "execution_count": 9,
     "metadata": {},
     "output_type": "execute_result"
    }
   ],
   "source": [
    "# Нижняя цена игры\n",
    "max( A.min(axis=1) )"
   ]
  },
  {
   "cell_type": "code",
   "execution_count": 10,
   "id": "7c6e9bae-a857-4e54-822b-8930710fea71",
   "metadata": {
    "scrolled": true
   },
   "outputs": [
    {
     "data": {
      "text/plain": [
       "0.74"
      ]
     },
     "execution_count": 10,
     "metadata": {},
     "output_type": "execute_result"
    }
   ],
   "source": [
    "# Верхняя цена игры\n",
    "min( A.max(axis=0) )"
   ]
  },
  {
   "cell_type": "code",
   "execution_count": null,
   "id": "ab53e14b-861a-4893-b86c-ae25e7f62604",
   "metadata": {},
   "outputs": [],
   "source": []
  },
  {
   "cell_type": "code",
   "execution_count": null,
   "id": "946e9383-1767-465b-9968-ea7ea6616645",
   "metadata": {},
   "outputs": [],
   "source": []
  }
 ],
 "metadata": {
  "kernelspec": {
   "display_name": "Python 3 (ipykernel)",
   "language": "python",
   "name": "python3"
  },
  "language_info": {
   "codemirror_mode": {
    "name": "ipython",
    "version": 3
   },
   "file_extension": ".py",
   "mimetype": "text/x-python",
   "name": "python",
   "nbconvert_exporter": "python",
   "pygments_lexer": "ipython3",
   "version": "3.8.5"
  }
 },
 "nbformat": 4,
 "nbformat_minor": 5
}
