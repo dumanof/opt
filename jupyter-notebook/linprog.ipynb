{
 "cells": [
  {
   "cell_type": "code",
   "execution_count": 1,
   "id": "c23ee41d-630f-41f1-b7cf-cd142f9a773c",
   "metadata": {},
   "outputs": [],
   "source": [
    "import numpy as np\n",
    "from scipy.optimize import linprog"
   ]
  },
  {
   "cell_type": "code",
   "execution_count": 2,
   "id": "c62033e3-bb97-45a2-ad7e-6174622aac45",
   "metadata": {},
   "outputs": [
    {
     "data": {
      "text/plain": [
       "        message: Optimization terminated successfully. (HiGHS Status 7: Optimal)\n",
       "        success: True\n",
       "         status: 0\n",
       "            fun: -25.999999999999996\n",
       "              x: [ 5.000e+00  3.000e+00]\n",
       "            nit: 3\n",
       "          lower:  residual: [ 5.000e+00  3.000e+00]\n",
       "                 marginals: [ 0.000e+00  0.000e+00]\n",
       "          upper:  residual: [       inf        inf]\n",
       "                 marginals: [ 0.000e+00  0.000e+00]\n",
       "          eqlin:  residual: []\n",
       "                 marginals: []\n",
       "        ineqlin:  residual: [ 5.000e+00  0.000e+00  0.000e+00]\n",
       "                 marginals: [-0.000e+00 -6.667e-01 -6.667e-01]\n",
       " mip_node_count: 0\n",
       " mip_dual_bound: 0.0\n",
       "        mip_gap: 0.0"
      ]
     },
     "execution_count": 2,
     "metadata": {},
     "output_type": "execute_result"
    }
   ],
   "source": [
    "# вектрор целевой функции\n",
    "c = np.array([-4, -2])\n",
    "# матрица A\n",
    "A = np.array([ [2, 3], [3, 2], [3, 1] ])\n",
    "# вектор b\n",
    "b = np.array([24, 21, 18])\n",
    "# границы для переменных: нижняя 0, верхняя отсутствует (None)\n",
    "x_bounds = [(0, None), (0, None)]\n",
    "\n",
    "res = linprog(c, A_ub=A, b_ub=b, bounds=x_bounds)\n",
    "\n",
    "res"
   ]
  },
  {
   "cell_type": "code",
   "execution_count": 3,
   "id": "355bce82-bd25-49df-825e-8ce59af0b338",
   "metadata": {},
   "outputs": [
    {
     "data": {
      "text/plain": [
       "array([5., 3.])"
      ]
     },
     "execution_count": 3,
     "metadata": {},
     "output_type": "execute_result"
    }
   ],
   "source": [
    "res.x.round(0)"
   ]
  },
  {
   "cell_type": "code",
   "execution_count": null,
   "id": "aaf713a9-47bb-4951-8f71-8cc275098e7d",
   "metadata": {},
   "outputs": [],
   "source": []
  }
 ],
 "metadata": {
  "kernelspec": {
   "display_name": "Python 3 (ipykernel)",
   "language": "python",
   "name": "python3"
  },
  "language_info": {
   "codemirror_mode": {
    "name": "ipython",
    "version": 3
   },
   "file_extension": ".py",
   "mimetype": "text/x-python",
   "name": "python",
   "nbconvert_exporter": "python",
   "pygments_lexer": "ipython3",
   "version": "3.8.5"
  }
 },
 "nbformat": 4,
 "nbformat_minor": 5
}
