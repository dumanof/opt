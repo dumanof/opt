{
 "cells": [
  {
   "cell_type": "code",
   "execution_count": 9,
   "id": "47c9f225-d4d8-4948-922e-9e54ca26af59",
   "metadata": {},
   "outputs": [],
   "source": [
    "import numpy as np\n",
    "from scipy.optimize import minimize, Bounds\n",
    "\n",
    "import sympy\n",
    "from sympy import symbols, hessian, Function, ordered, Matrix, N, init_printing\n",
    "from sympy.abc import x, y, z\n",
    "init_printing()"
   ]
  },
  {
   "cell_type": "code",
   "execution_count": 10,
   "id": "d8ad33a7-2fa9-4692-9aa0-7900edec627b",
   "metadata": {
    "scrolled": true
   },
   "outputs": [
    {
     "data": {
      "text/latex": [
       "$\\displaystyle \\left[\\begin{matrix}10 x - 6 y - 3 & - 6 x + 4 y - 1\\end{matrix}\\right]$"
      ],
      "text/plain": [
       "[10⋅x - 6⋅y - 3  -6⋅x + 4⋅y - 1]"
      ]
     },
     "execution_count": 10,
     "metadata": {},
     "output_type": "execute_result"
    }
   ],
   "source": [
    "F = -3*x-y+5*x**2+2*y**2-6*x*y\n",
    "\n",
    "v = list(ordered(F.free_symbols)); v\n",
    "gradient = lambda f, v: Matrix([f]).jacobian(v)\n",
    "gradient(F, v)"
   ]
  },
  {
   "cell_type": "code",
   "execution_count": 11,
   "id": "32b0df12-bb07-4eee-a9a3-ba0d9ddb7965",
   "metadata": {},
   "outputs": [],
   "source": [
    "def f(x):\n",
    "    return -3*x[0]-x[1]+5*x[0]**2+2*x[1]**2-6*x[0]*x[1]\n",
    "def grad_f(x):\n",
    "    return np.array([10*x[0]-6*x[1]-3, -6*x[0]+4*x[1]-1] )\n",
    "\n",
    "constr1 = {'type': 'eq', \n",
    "              'fun': lambda x: x[0]+2*x[1]-11, \n",
    "              'jac': lambda x: np.array([1, 2])}"
   ]
  },
  {
   "cell_type": "code",
   "execution_count": 12,
   "id": "12d69a14-3a9e-4e39-a45a-0ad6610d9716",
   "metadata": {
    "scrolled": true
   },
   "outputs": [
    {
     "name": "stdout",
     "output_type": "stream",
     "text": [
      "Optimization terminated successfully    (Exit mode 0)\n",
      "            Current function value: -8.59558823529413\n",
      "            Iterations: 5\n",
      "            Function evaluations: 6\n",
      "            Gradient evaluations: 5\n",
      " message: Optimization terminated successfully\n",
      " success: True\n",
      "  status: 0\n",
      "     fun: -8.59558823529413\n",
      "       x: [ 2.735e+00  4.132e+00]\n",
      "     nit: 5\n",
      "     jac: [-4.412e-01 -8.824e-01]\n",
      "    nfev: 6\n",
      "    njev: 5\n"
     ]
    }
   ],
   "source": [
    "bounds = Bounds([-np.inf, -np.inf], [np.inf, np.inf])\n",
    "\n",
    "x0 = np.array([1, 1])\n",
    "\n",
    "res = minimize(f, x0, method='SLSQP', jac=grad_f, constraints=[constr1], options={'ftol': 1e-9, 'disp': True}, \n",
    "               bounds=bounds)\n",
    "print(res)"
   ]
  },
  {
   "cell_type": "code",
   "execution_count": 13,
   "id": "9e9e878b-4b27-4dde-820a-bfc1dbcf3053",
   "metadata": {},
   "outputs": [
    {
     "data": {
      "text/plain": [
       "array([2.74, 4.13])"
      ]
     },
     "execution_count": 13,
     "metadata": {},
     "output_type": "execute_result"
    }
   ],
   "source": [
    "res.x.round(2)"
   ]
  },
  {
   "cell_type": "code",
   "execution_count": 14,
   "id": "3a3fd444-8282-466d-b1e7-a6a1dfd2b63f",
   "metadata": {},
   "outputs": [
    {
     "data": {
      "text/plain": [
       "array([2.7, 4.1])"
      ]
     },
     "execution_count": 14,
     "metadata": {},
     "output_type": "execute_result"
    }
   ],
   "source": [
    "res.x.round(1)"
   ]
  },
  {
   "cell_type": "code",
   "execution_count": null,
   "id": "faa8f251-134b-4dd3-984c-61cf0349229e",
   "metadata": {},
   "outputs": [],
   "source": []
  },
  {
   "cell_type": "code",
   "execution_count": null,
   "id": "c62a9abf-4572-45b6-bf2e-8f330faf5c9a",
   "metadata": {},
   "outputs": [],
   "source": []
  }
 ],
 "metadata": {
  "kernelspec": {
   "display_name": "Python 3 (ipykernel)",
   "language": "python",
   "name": "python3"
  },
  "language_info": {
   "codemirror_mode": {
    "name": "ipython",
    "version": 3
   },
   "file_extension": ".py",
   "mimetype": "text/x-python",
   "name": "python",
   "nbconvert_exporter": "python",
   "pygments_lexer": "ipython3",
   "version": "3.8.5"
  }
 },
 "nbformat": 4,
 "nbformat_minor": 5
}
