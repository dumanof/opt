{
 "cells": [
  {
   "cell_type": "code",
   "execution_count": 4,
   "id": "d61e7832-9fdd-4f2e-ac20-322d5b981e77",
   "metadata": {},
   "outputs": [],
   "source": [
    "import numpy as np\n",
    "from scipy.optimize import linprog\n",
    "import nashpy as nash"
   ]
  },
  {
   "cell_type": "code",
   "execution_count": 5,
   "id": "4e13d8cf-e157-4da9-a2e8-8e2b96150509",
   "metadata": {},
   "outputs": [
    {
     "name": "stdout",
     "output_type": "stream",
     "text": [
      "[[ 2 -1 -2]\n",
      " [-1  0  2]\n",
      " [ 0 -2 -1]]\n"
     ]
    }
   ],
   "source": [
    "A = np.array([[2, -1, -2], [-1, 0, 2], [0, -2, -1]])\n",
    "print(A)"
   ]
  },
  {
   "cell_type": "code",
   "execution_count": 6,
   "id": "9e754dbd-6239-42dd-958e-186b833f5f8d",
   "metadata": {},
   "outputs": [
    {
     "name": "stdout",
     "output_type": "stream",
     "text": [
      "Zero sum game with payoff matrices:\n",
      "\n",
      "Row player:\n",
      "[[ 2 -1 -2]\n",
      " [-1  0  2]\n",
      " [ 0 -2 -1]]\n",
      "\n",
      "Column player:\n",
      "[[-2  1  2]\n",
      " [ 1  0 -2]\n",
      " [ 0  2  1]]\n"
     ]
    }
   ],
   "source": [
    "zsg = nash.Game(A)\n",
    "print(zsg)"
   ]
  },
  {
   "cell_type": "code",
   "execution_count": 10,
   "id": "4cde035e-293e-4ef2-b2e2-449ed55d0745",
   "metadata": {},
   "outputs": [
    {
     "name": "stdout",
     "output_type": "stream",
     "text": [
      "Равновесная смешанная стратегия первого игрока:  [0.25 0.75 0.  ]\n"
     ]
    }
   ],
   "source": [
    "nash_eq = zsg.linear_program() # решаем задачи линейного программирования\n",
    "\n",
    "print('Равновесная смешанная стратегия первого игрока: ', nash_eq[0])"
   ]
  },
  {
   "cell_type": "code",
   "execution_count": 11,
   "id": "78b8bfb8-ba64-4226-93da-6f4b704c2e08",
   "metadata": {},
   "outputs": [
    {
     "data": {
      "text/plain": [
       "(array([0.25, 0.75, 0.  ]), -0.25)"
      ]
     },
     "execution_count": 11,
     "metadata": {},
     "output_type": "execute_result"
    }
   ],
   "source": [
    "c = np.full(shape=3, fill_value=1)\n",
    "b = np.full(shape=3, fill_value=-1)\n",
    "\n",
    "shift = 2\n",
    "\n",
    "res = linprog(c, A_ub=-A.T-shift, b_ub=b)\n",
    "\n",
    "# цена игры\n",
    "value1 = 1/res.fun-shift\n",
    "# равновесная стратегия\n",
    "P_star = res.x/res.fun\n",
    "\n",
    "P_star, value1"
   ]
  },
  {
   "cell_type": "code",
   "execution_count": null,
   "id": "949fc5a2-65f4-4956-92c7-e818bd502f11",
   "metadata": {},
   "outputs": [],
   "source": []
  }
 ],
 "metadata": {
  "kernelspec": {
   "display_name": "Python 3 (ipykernel)",
   "language": "python",
   "name": "python3"
  },
  "language_info": {
   "codemirror_mode": {
    "name": "ipython",
    "version": 3
   },
   "file_extension": ".py",
   "mimetype": "text/x-python",
   "name": "python",
   "nbconvert_exporter": "python",
   "pygments_lexer": "ipython3",
   "version": "3.8.5"
  }
 },
 "nbformat": 4,
 "nbformat_minor": 5
}
