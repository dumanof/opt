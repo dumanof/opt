{
 "cells": [
  {
   "cell_type": "code",
   "execution_count": 1,
   "id": "47c9f225-d4d8-4948-922e-9e54ca26af59",
   "metadata": {},
   "outputs": [],
   "source": [
    "import numpy as np\n",
    "from scipy.optimize import minimize, Bounds\n",
    "\n",
    "import sympy\n",
    "from sympy import symbols, hessian, Function, ordered, Matrix, N, init_printing\n",
    "from sympy.abc import x, y\n",
    "init_printing()"
   ]
  },
  {
   "cell_type": "code",
   "execution_count": 3,
   "id": "d8ad33a7-2fa9-4692-9aa0-7900edec627b",
   "metadata": {
    "scrolled": true
   },
   "outputs": [
    {
     "data": {
      "text/latex": [
       "$\\displaystyle \\left[\\begin{matrix}10 x - 4 y - 2 & - 4 x + 2 y - 4\\end{matrix}\\right]$"
      ],
      "text/plain": [
       "[10⋅x - 4⋅y - 2  -4⋅x + 2⋅y - 4]"
      ]
     },
     "execution_count": 3,
     "metadata": {},
     "output_type": "execute_result"
    }
   ],
   "source": [
    "F = -2*x-4*y+5*x**2+y**2-4*x*y\n",
    "\n",
    "v = list(ordered(F.free_symbols)); v\n",
    "gradient = lambda f, v: Matrix([f]).jacobian(v)\n",
    "gradient(F, v)"
   ]
  },
  {
   "cell_type": "code",
   "execution_count": 6,
   "id": "32b0df12-bb07-4eee-a9a3-ba0d9ddb7965",
   "metadata": {},
   "outputs": [],
   "source": [
    "def f(x):\n",
    "    return -2*x[0]-4*x[1]+5*x[0]**2+x[1]**2-4*x[1]*x[0]\n",
    "def grad_f(x):\n",
    "    return np.array([10*x[0]-4*x[1]-2, -4*x[0]+2*x[1]-4])\n",
    "\n",
    "constr = {'type': 'eq', \n",
    "          'fun': lambda x: 2*x[0]+x[1]-5,\n",
    "          'jac': lambda x: np.array([2, 1]) }"
   ]
  },
  {
   "cell_type": "code",
   "execution_count": 7,
   "id": "12d69a14-3a9e-4e39-a45a-0ad6610d9716",
   "metadata": {
    "scrolled": true
   },
   "outputs": [
    {
     "name": "stdout",
     "output_type": "stream",
     "text": [
      "Optimization terminated successfully    (Exit mode 0)\n",
      "            Current function value: -12.000000000000002\n",
      "            Iterations: 5\n",
      "            Function evaluations: 6\n",
      "            Gradient evaluations: 5\n",
      " message: Optimization terminated successfully\n",
      " success: True\n",
      "  status: 0\n",
      "     fun: -12.000000000000002\n",
      "       x: [ 1.000e+00  3.000e+00]\n",
      "     nit: 5\n",
      "     jac: [-4.000e+00 -2.000e+00]\n",
      "    nfev: 6\n",
      "    njev: 5\n"
     ]
    }
   ],
   "source": [
    "bounds = Bounds([-np.inf, -np.inf], [np.inf, np.inf])\n",
    "\n",
    "x0 = np.array([1, 1])\n",
    "\n",
    "res = minimize(f, x0, method='SLSQP', jac=grad_f, constraints=[constr], options={'ftol': 1e-9, 'disp': True}, \n",
    "               bounds=bounds)\n",
    "print(res)"
   ]
  },
  {
   "cell_type": "code",
   "execution_count": 8,
   "id": "9e9e878b-4b27-4dde-820a-bfc1dbcf3053",
   "metadata": {},
   "outputs": [
    {
     "data": {
      "text/plain": [
       "array([1., 3.])"
      ]
     },
     "execution_count": 8,
     "metadata": {},
     "output_type": "execute_result"
    }
   ],
   "source": [
    "res.x.round(3)"
   ]
  },
  {
   "cell_type": "code",
   "execution_count": 9,
   "id": "3a3fd444-8282-466d-b1e7-a6a1dfd2b63f",
   "metadata": {},
   "outputs": [
    {
     "data": {
      "text/plain": [
       "array([1., 3.])"
      ]
     },
     "execution_count": 9,
     "metadata": {},
     "output_type": "execute_result"
    }
   ],
   "source": [
    "res.x.round(1)"
   ]
  },
  {
   "cell_type": "code",
   "execution_count": null,
   "id": "faa8f251-134b-4dd3-984c-61cf0349229e",
   "metadata": {},
   "outputs": [],
   "source": []
  },
  {
   "cell_type": "code",
   "execution_count": null,
   "id": "a4b7cd2b-736b-4299-a93f-a2582961df80",
   "metadata": {},
   "outputs": [],
   "source": []
  },
  {
   "cell_type": "code",
   "execution_count": null,
   "id": "070a963c-7895-4216-8965-6d3b93b1ca89",
   "metadata": {},
   "outputs": [],
   "source": []
  }
 ],
 "metadata": {
  "kernelspec": {
   "display_name": "Python 3 (ipykernel)",
   "language": "python",
   "name": "python3"
  },
  "language_info": {
   "codemirror_mode": {
    "name": "ipython",
    "version": 3
   },
   "file_extension": ".py",
   "mimetype": "text/x-python",
   "name": "python",
   "nbconvert_exporter": "python",
   "pygments_lexer": "ipython3",
   "version": "3.8.5"
  }
 },
 "nbformat": 4,
 "nbformat_minor": 5
}
