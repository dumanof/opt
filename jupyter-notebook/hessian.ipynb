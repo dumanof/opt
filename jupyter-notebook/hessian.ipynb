{
 "cells": [
  {
   "cell_type": "code",
   "execution_count": 20,
   "id": "0903fb2a-6c63-48d1-8f2b-a5342924234e",
   "metadata": {},
   "outputs": [],
   "source": [
    "import math\n",
    "import sympy\n",
    "from sympy import symbols, hessian, Function, ordered, Matrix, N\n",
    "from sympy.abc import x, y\n",
    "\n",
    "import numpy as np\n",
    "from scipy.optimize import minimize\n"
   ]
  },
  {
   "cell_type": "code",
   "execution_count": 21,
   "id": "1f32e6c7-b3e3-4b49-8a05-22c1f962aaca",
   "metadata": {
    "scrolled": true
   },
   "outputs": [],
   "source": [
    "eq = 3*sympy.log(x) + 5*sympy.log(y) - 2*y - 2*x*y\n",
    "\n",
    "v = list(ordered(eq.free_symbols)); v\n",
    "gradient = lambda f, v: Matrix([f]).jacobian(v)"
   ]
  },
  {
   "cell_type": "code",
   "execution_count": 22,
   "id": "90bae355-1a5b-4b79-9e97-5b9bdc36f761",
   "metadata": {
    "scrolled": true
   },
   "outputs": [
    {
     "data": {
      "text/latex": [
       "$\\displaystyle \\left[\\begin{matrix}- 2 y + \\frac{3}{x} & - 2 x - 2 + \\frac{5}{y}\\end{matrix}\\right]$"
      ],
      "text/plain": [
       "Matrix([[-2*y + 3/x, -2*x - 2 + 5/y]])"
      ]
     },
     "execution_count": 22,
     "metadata": {},
     "output_type": "execute_result"
    }
   ],
   "source": [
    "gradient(eq, v)"
   ]
  },
  {
   "cell_type": "code",
   "execution_count": 23,
   "id": "afeaec69-c3a1-4d6c-86fb-1432f919d505",
   "metadata": {
    "scrolled": true
   },
   "outputs": [
    {
     "data": {
      "text/latex": [
       "$\\displaystyle \\left[\\begin{matrix}- \\frac{3}{x^{2}} & -2\\\\-2 & - \\frac{5}{y^{2}}\\end{matrix}\\right]$"
      ],
      "text/plain": [
       "Matrix([\n",
       "[-3/x**2,      -2],\n",
       "[     -2, -5/y**2]])"
      ]
     },
     "execution_count": 23,
     "metadata": {},
     "output_type": "execute_result"
    }
   ],
   "source": [
    "hessian(eq, v)"
   ]
  },
  {
   "cell_type": "code",
   "execution_count": 26,
   "id": "3d693e9e-91d7-4133-8ef3-cddfdb495248",
   "metadata": {},
   "outputs": [],
   "source": [
    "#только str\n",
    "Hess = hessian(eq, v)\n",
    "#res = np.linalg.det(Hess)\n",
    "#res___OqDw1H2$pvU7"
   ]
  },
  {
   "cell_type": "code",
   "execution_count": 27,
   "id": "3d343676-67cd-4cd7-8939-6d1a6d31e66d",
   "metadata": {},
   "outputs": [
    {
     "name": "stdout",
     "output_type": "stream",
     "text": [
      "-2*y + 3/x\n",
      "-2*x - 2 + 5/y\n"
     ]
    }
   ],
   "source": [
    "#на всякий случай проверка\n",
    "from sympy import *\n",
    "print(diff(3*sympy.log(x) + 5*sympy.log(y) - 2*y - 2*x*y, x))\n",
    "print(diff(3*sympy.log(x) + 5*sympy.log(y) - 2*y - 2*x*y, y))"
   ]
  },
  {
   "cell_type": "code",
   "execution_count": null,
   "id": "b74bb538-817e-4c22-9d66-d2e5abcb20d9",
   "metadata": {},
   "outputs": [],
   "source": []
  },
  {
   "cell_type": "code",
   "execution_count": null,
   "id": "45b07688-81e2-4963-bbf6-c8aad8c2b3df",
   "metadata": {},
   "outputs": [],
   "source": []
  }
 ],
 "metadata": {
  "kernelspec": {
   "display_name": "Python 3 (ipykernel)",
   "language": "python",
   "name": "python3"
  },
  "language_info": {
   "codemirror_mode": {
    "name": "ipython",
    "version": 3
   },
   "file_extension": ".py",
   "mimetype": "text/x-python",
   "name": "python",
   "nbconvert_exporter": "python",
   "pygments_lexer": "ipython3",
   "version": "3.8.5"
  }
 },
 "nbformat": 4,
 "nbformat_minor": 5
}
