{
 "cells": [
  {
   "cell_type": "code",
   "execution_count": 68,
   "id": "47c9f225-d4d8-4948-922e-9e54ca26af59",
   "metadata": {},
   "outputs": [],
   "source": [
    "import numpy as np\n",
    "from scipy.optimize import minimize, Bounds\n",
    "\n",
    "import sympy\n",
    "from sympy import symbols, hessian, Function, ordered, Matrix, N, init_printing\n",
    "from sympy.abc import x, y, z\n",
    "init_printing()"
   ]
  },
  {
   "cell_type": "code",
   "execution_count": 69,
   "id": "d8ad33a7-2fa9-4692-9aa0-7900edec627b",
   "metadata": {
    "scrolled": true
   },
   "outputs": [
    {
     "data": {
      "text/latex": [
       "$\\displaystyle \\left[\\begin{matrix}-1 & -2 & -3\\end{matrix}\\right]$"
      ],
      "text/plain": [
       "[-1  -2  -3]"
      ]
     },
     "execution_count": 69,
     "metadata": {},
     "output_type": "execute_result"
    }
   ],
   "source": [
    "F = -x-y*2-3*z\n",
    "\n",
    "v = list(ordered(F.free_symbols)); v\n",
    "gradient = lambda f, v: Matrix([f]).jacobian(v)\n",
    "gradient(F, v)"
   ]
  },
  {
   "cell_type": "code",
   "execution_count": 70,
   "id": "32b0df12-bb07-4eee-a9a3-ba0d9ddb7965",
   "metadata": {},
   "outputs": [],
   "source": [
    "def f(x):\n",
    "    return -x[0]-x[1]*2-3*x[2]\n",
    "def grad_f(x):\n",
    "    return np.array([-1,-2,-3] )\n",
    "\n",
    "constr1 = {'type': 'eq', \n",
    "              'fun': lambda x: 2*x[0]**2 + 2*x[1]**2 + x[2]**2 + 2*x[0]*x[1] - 4, \n",
    "              'jac': lambda x: np.array([4*x[0]+2*x[1], 4*x[1]+2*x[0],2*x[2]])}\n",
    "\n"
   ]
  },
  {
   "cell_type": "code",
   "execution_count": 71,
   "id": "12d69a14-3a9e-4e39-a45a-0ad6610d9716",
   "metadata": {
    "scrolled": true
   },
   "outputs": [
    {
     "name": "stdout",
     "output_type": "stream",
     "text": [
      "Optimization terminated successfully    (Exit mode 0)\n",
      "            Current function value: -6.633249580714461\n",
      "            Iterations: 9\n",
      "            Function evaluations: 10\n",
      "            Gradient evaluations: 9\n",
      " message: Optimization terminated successfully\n",
      " success: True\n",
      "  status: 0\n",
      "     fun: -6.633249580714461\n",
      "       x: [ 5.294e-23  6.030e-01  1.809e+00]\n",
      "     nit: 9\n",
      "     jac: [-1.000e+00 -2.000e+00 -3.000e+00]\n",
      "    nfev: 10\n",
      "    njev: 9\n"
     ]
    }
   ],
   "source": [
    "bounds = Bounds([0,0,0], [np.inf, np.inf,  np.inf])\n",
    "\n",
    "x0 = np.array([1, 1, 1])\n",
    "\n",
    "res = minimize(f, x0, method='SLSQP', jac=grad_f, constraints=[constr1], options={'ftol': 1e-9, 'disp': True}, \n",
    "               bounds=bounds)\n",
    "print(res)"
   ]
  },
  {
   "cell_type": "code",
   "execution_count": 72,
   "id": "9e9e878b-4b27-4dde-820a-bfc1dbcf3053",
   "metadata": {},
   "outputs": [
    {
     "data": {
      "text/plain": [
       "array([0.  , 0.6 , 1.81])"
      ]
     },
     "execution_count": 72,
     "metadata": {},
     "output_type": "execute_result"
    }
   ],
   "source": [
    "res.x.round(2)"
   ]
  },
  {
   "cell_type": "code",
   "execution_count": 73,
   "id": "3a3fd444-8282-466d-b1e7-a6a1dfd2b63f",
   "metadata": {},
   "outputs": [
    {
     "data": {
      "text/plain": [
       "array([0. , 0.6, 1.8])"
      ]
     },
     "execution_count": 73,
     "metadata": {},
     "output_type": "execute_result"
    }
   ],
   "source": [
    "res.x.round(1)"
   ]
  },
  {
   "cell_type": "code",
   "execution_count": null,
   "id": "faa8f251-134b-4dd3-984c-61cf0349229e",
   "metadata": {},
   "outputs": [],
   "source": []
  },
  {
   "cell_type": "code",
   "execution_count": null,
   "id": "c62a9abf-4572-45b6-bf2e-8f330faf5c9a",
   "metadata": {},
   "outputs": [],
   "source": []
  }
 ],
 "metadata": {
  "kernelspec": {
   "display_name": "Python 3 (ipykernel)",
   "language": "python",
   "name": "python3"
  },
  "language_info": {
   "codemirror_mode": {
    "name": "ipython",
    "version": 3
   },
   "file_extension": ".py",
   "mimetype": "text/x-python",
   "name": "python",
   "nbconvert_exporter": "python",
   "pygments_lexer": "ipython3",
   "version": "3.8.5"
  }
 },
 "nbformat": 4,
 "nbformat_minor": 5
}
